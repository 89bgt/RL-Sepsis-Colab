{
 "cells": [
  {
   "cell_type": "markdown",
   "metadata": {},
   "source": [
    "# Sepsis Prediction with DQN+LSTM - GPU Training\n",
    "\n",
    "This notebook sets up GPU training for the sepsis prediction model using DQN with Bidirectional LSTM and Attention mechanism.\n",
    "\n",
    "Run this notebook in Google Colab with a GPU runtime for much faster training."
   ]
  },
  {
   "cell_type": "markdown",
   "metadata": {},
   "source": [
    "## Setup and Installation"
   ]
  },
  {
   "cell_type": "code",
   "execution_count": null,
   "metadata": {},
   "source": [
    "# Check if GPU is available\n",
    "!nvidia-smi\n",
    "\n",
    "# Install dependencies\n",
    "!pip install stable-baselines3==2.6.0 gymnasium==1.1.1 torch>=2.0.0 tqdm matplotlib pandas numpy"
   ]
  },
  {
   "cell_type": "code",
   "execution_count": null,
   "metadata": {},
   "source": [
    "# Clone the repository\n",
    "!git clone https://github.com/YOUR_USERNAME/RL-Sepsis-Prediction.git\n",
    "%cd RL-Sepsis-Prediction"
   ]
  },
  {
   "cell_type": "markdown",
   "metadata": {},
   "source": [
    "## Upload Data\n",
    "\n",
    "You'll need to upload your patient data files. You can either upload directly through Colab's file browser or use Google Drive."
   ]
  },
  {
   "cell_type": "code",
   "execution_count": null,
   "metadata": {},
   "source": [
    "# Option 1: Mount Google Drive if your data is there\n",
    "from google.colab import drive\n",
    "drive.mount('/content/drive')\n",
    "\n",
    "# Create data directories\n",
    "!mkdir -p data/training_setA\n",
    "\n",
    "# Copy data from Drive (adjust path as needed)\n",
    "# !cp -r /content/drive/MyDrive/path/to/data/training_setA/* data/training_setA/"
   ]
  },
  {
   "cell_type": "code",
   "execution_count": null,
   "metadata": {},
   "source": [
    "# Option 2: Upload directly from your computer\n",
    "# (Uncomment and run this cell if you want to upload files directly)\n",
    "\n",
    "# from google.colab import files\n",
    "# import os\n",
    "# import zipfile\n",
    "\n",
    "# # Upload a zip file containing the data\n",
    "# uploaded = files.upload()  # This will prompt you to select files\n",
    "\n",
    "# # Extract the uploaded zip file\n",
    "# zip_name = list(uploaded.keys())[0]\n",
    "# with zipfile.ZipFile(zip_name, 'r') as zip_ref:\n",
    "#     zip_ref.extractall('.')\n",
    "\n",
    "# # Check the contents of the data directory\n",
    "# !ls -la data/training_setA"
   ]
  },
  {
   "cell_type": "markdown",
   "metadata": {},
   "source": [
    "## Configure Training Parameters\n",
    "\n",
    "You can adjust these parameters based on your needs and the available GPU memory."
   ]
  },
  {
   "cell_type": "code",
   "execution_count": null,
   "metadata": {},
   "source": [
    "# Set training parameters\n",
    "import os\n",
    "\n",
    "# Create directories for saving models\n",
    "os.makedirs(\"./models\", exist_ok=True)\n",
    "\n",
    "# You can adjust these parameters\n",
    "MAX_FILES = None  # Set to None to use all files, or a number for testing\n",
    "TOTAL_TIMESTEPS = 200000  # Increase this for better training (e.g., 500000 or 1000000)\n",
    "BALANCE_RATIO = 0.4  # Target ratio of sepsis to non-sepsis patients"
   ]
  },
  {
   "cell_type": "markdown",
   "metadata": {},
   "source": [
    "## Run Training"
   ]
  },
  {
   "cell_type": "code",
   "execution_count": null,
   "metadata": {},
   "source": [
    "# Execute the training script\n",
    "!python train_dqn_lstm.py --max_files $MAX_FILES --total_timesteps $TOTAL_TIMESTEPS --balance_ratio $BALANCE_RATIO"
   ]
  },
  {
   "cell_type": "markdown",
   "metadata": {},
   "source": [
    "## Download the Trained Model\n",
    "\n",
    "After training is complete, you can download the model and checkpoint files."
   ]
  },
  {
   "cell_type": "code",
   "execution_count": null,
   "metadata": {},
   "source": [
    "# Zip the models for downloading\n",
    "!zip -r models.zip ./models dqn_lstm_sepsis_model_final.zip\n",
    "\n",
    "# Download the zip file\n",
    "from google.colab import files\n",
    "files.download('models.zip')"
   ]
  },
  {
   "cell_type": "markdown",
   "metadata": {},
   "source": [
    "## Visualize Training Progress\n",
    "\n",
    "You can use this code to visualize the training progress using the evaluation metrics."
   ]
  },
  {
   "cell_type": "code",
   "execution_count": null,
   "metadata": {},
   "source": [
    "import matplotlib.pyplot as plt\n",
    "import numpy as np\n",
    "import re\n",
    "import glob\n",
    "\n",
    "# Path to all checkpoint models\n",
    "checkpoint_files = sorted(glob.glob('./models/dqn_lstm_sepsis_*.zip'))\n",
    "\n",
    "# Extract timesteps from filenames\n",
    "timesteps = [int(re.search(r'_([0-9]+)_steps', file).group(1)) for file in checkpoint_files]\n",
    "\n",
    "# You would need to implement a function to evaluate each model\n",
    "# and collect metrics like accuracy, precision, recall, etc.\n",
    "# This is a placeholder for demonstration\n",
    "\n",
    "# Example plot\n",
    "plt.figure(figsize=(12, 6))\n",
    "plt.plot(timesteps, np.random.rand(len(timesteps)) * 0.5 + 0.3, 'o-', label='Accuracy')\n",
    "plt.plot(timesteps, np.random.rand(len(timesteps)) * 0.3 + 0.1, 'o-', label='Precision')\n",
    "plt.plot(timesteps, np.random.rand(len(timesteps)) * 0.4 + 0.4, 'o-', label='Recall')\n",
    "plt.xlabel('Training Timesteps')\n",
    "plt.ylabel('Metric Value')\n",
    "plt.title('Training Progress')\n",
    "plt.legend()\n",
    "plt.grid(True)\n",
    "plt.show()"
   ]
  }
 ],
 "metadata": {
  "kernelspec": {
   "display_name": "Python 3",
   "language": "python",
   "name": "python3"
  },
  "language_info": {
   "codemirror_mode": {
    "name": "ipython",
    "version": 3
   },
   "file_extension": ".py",
   "mimetype": "text/x-python",
   "name": "python",
   "nbconvert_exporter": "python",
   "pygments_lexer": "ipython3",
   "version": "3.8.10"
  }
 },
 "nbformat": 4,
 "nbformat_minor": 4
}
